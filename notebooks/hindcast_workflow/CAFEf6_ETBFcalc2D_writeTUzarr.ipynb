{
 "cells": [
  {
   "cell_type": "markdown",
   "id": "31bbe048",
   "metadata": {},
   "source": [
    "# CAFEf6_ETBFcalc2D_writeTUzarr"
   ]
  },
  {
   "cell_type": "markdown",
   "id": "fde8a751",
   "metadata": {},
   "source": [
    "**Date:** <br>\n",
    "16 March 2022 <br>\n",
    "**Background:** <br>\n",
    "Issue - https://github.com/Thomas-Moore-Creative/NCI-CAFE-ARD/issues/2 <br>\n",
    "**Author(s):**<br>\n",
    "Thomas Moore<br>"
   ]
  },
  {
   "cell_type": "markdown",
   "id": "f18a60fe",
   "metadata": {
    "tags": []
   },
   "source": [
    "## We are using NCI OOD as platform for data processing\n",
    "### OOD documentation\n",
    "https://opus.nci.org.au/display/DAE/Setting+up+a+Dask+Cluster+on+OOD"
   ]
  },
  {
   "cell_type": "code",
   "execution_count": 1,
   "id": "26f0f507",
   "metadata": {},
   "outputs": [],
   "source": [
    "Author1 = {\"name\": \"Thomas Moore\", \"affiliation\": \"CSIRO\", \"email\": \"thomas.moore@csiro.au\", \"orcid\": \"0000-0003-3930-1946\"}"
   ]
  },
  {
   "cell_type": "code",
   "execution_count": 2,
   "id": "7586239d",
   "metadata": {
    "tags": []
   },
   "outputs": [],
   "source": [
    "import xarray as xr\n",
    "import numpy as np\n",
    "import xrft\n",
    "import xesmf as xe\n",
    "import scipy\n",
    "import matplotlib.pyplot as plt\n",
    "import datetime\n",
    "from datetime import datetime\n",
    "import pandas as pd\n",
    "import matplotlib.dates as mdates\n",
    "from matplotlib.dates import DateFormatter\n",
    "import os\n",
    "import re\n",
    "import cartopy.crs as ccrs\n",
    "import proplot as pplt\n",
    "from rechunker import rechunk\n",
    "%config Completer.use_jedi = False"
   ]
  },
  {
   "cell_type": "markdown",
   "id": "a5cf9106-d2db-4cdb-80dd-6fe61c86b509",
   "metadata": {},
   "source": [
    "## import helper"
   ]
  },
  {
   "cell_type": "code",
   "execution_count": 3,
   "id": "e5a7c0b1-02c2-4b7f-bda6-89d775432372",
   "metadata": {},
   "outputs": [],
   "source": [
    "import importlib.util\n",
    "spec = importlib.util.spec_from_file_location(\"helper\", \"/g/data/v14/tm4888/code/helper-py/helper_tools.py\")\n",
    "helper = importlib.util.module_from_spec(spec)\n",
    "spec.loader.exec_module(helper)"
   ]
  },
  {
   "cell_type": "markdown",
   "id": "6b3f8b43",
   "metadata": {},
   "source": [
    "## OOD cluster"
   ]
  },
  {
   "cell_type": "code",
   "execution_count": 4,
   "id": "f9d7a09b",
   "metadata": {},
   "outputs": [
    {
     "name": "stderr",
     "output_type": "stream",
     "text": [
      "/g/data/v14/tm4888/miniconda3/envs/pangeo_hpc/lib/python3.9/site-packages/dask_jobqueue/core.py:20: FutureWarning: tmpfile is deprecated and will be removed in a future release. Please use dask.utils.tmpfile instead.\n",
      "  from distributed.utils import tmpfile\n"
     ]
    }
   ],
   "source": [
    "from dask.distributed import Client,Scheduler\n",
    "from dask_jobqueue import SLURMCluster\n",
    "cluster = SLURMCluster(cores=2,processes=1,memory=\"47GB\",walltime='03:00:00')\n",
    "client = Client(cluster)\n",
    "cluster.scale(cores=24)"
   ]
  },
  {
   "cell_type": "code",
   "execution_count": 5,
   "id": "b3de759e",
   "metadata": {},
   "outputs": [
    {
     "data": {
      "text/html": [
       "<div>\n",
       "    <div style=\"width: 24px; height: 24px; background-color: #e1e1e1; border: 3px solid #9D9D9D; border-radius: 5px; position: absolute;\"> </div>\n",
       "    <div style=\"margin-left: 48px;\">\n",
       "        <h3 style=\"margin-bottom: 0px;\">Client</h3>\n",
       "        <p style=\"color: #9D9D9D; margin-bottom: 0px;\">Client-5222d7fc-e88b-11ec-a9b2-fa163eaaaec0</p>\n",
       "        <table style=\"width: 100%; text-align: left;\">\n",
       "\n",
       "        <tr>\n",
       "        \n",
       "            <td style=\"text-align: left;\"><strong>Connection method:</strong> Cluster object</td>\n",
       "            <td style=\"text-align: left;\"><strong>Cluster type:</strong> dask_jobqueue.SLURMCluster</td>\n",
       "        \n",
       "        </tr>\n",
       "\n",
       "        \n",
       "            <tr>\n",
       "                <td style=\"text-align: left;\">\n",
       "                    <strong>Dashboard: </strong> <a href=\"/proxy/8787/status\" target=\"_blank\">/proxy/8787/status</a>\n",
       "                </td>\n",
       "                <td style=\"text-align: left;\"></td>\n",
       "            </tr>\n",
       "        \n",
       "\n",
       "        </table>\n",
       "\n",
       "        \n",
       "            <details>\n",
       "            <summary style=\"margin-bottom: 20px;\"><h3 style=\"display: inline;\">Cluster Info</h3></summary>\n",
       "            <div class=\"jp-RenderedHTMLCommon jp-RenderedHTML jp-mod-trusted jp-OutputArea-output\">\n",
       "    <div style=\"width: 24px; height: 24px; background-color: #e1e1e1; border: 3px solid #9D9D9D; border-radius: 5px; position: absolute;\">\n",
       "    </div>\n",
       "    <div style=\"margin-left: 48px;\">\n",
       "        <h3 style=\"margin-bottom: 0px; margin-top: 0px;\">SLURMCluster</h3>\n",
       "        <p style=\"color: #9D9D9D; margin-bottom: 0px;\">1c4799aa</p>\n",
       "        <table style=\"width: 100%; text-align: left;\">\n",
       "            <tr>\n",
       "                <td style=\"text-align: left;\">\n",
       "                    <strong>Dashboard:</strong> <a href=\"/proxy/8787/status\" target=\"_blank\">/proxy/8787/status</a>\n",
       "                </td>\n",
       "                <td style=\"text-align: left;\">\n",
       "                    <strong>Workers:</strong> 0\n",
       "                </td>\n",
       "            </tr>\n",
       "            <tr>\n",
       "                <td style=\"text-align: left;\">\n",
       "                    <strong>Total threads:</strong> 0\n",
       "                </td>\n",
       "                <td style=\"text-align: left;\">\n",
       "                    <strong>Total memory:</strong> 0 B\n",
       "                </td>\n",
       "            </tr>\n",
       "            \n",
       "        </table>\n",
       "\n",
       "        <details>\n",
       "            <summary style=\"margin-bottom: 20px;\">\n",
       "                <h3 style=\"display: inline;\">Scheduler Info</h3>\n",
       "            </summary>\n",
       "\n",
       "            <div style=\"\">\n",
       "    <div>\n",
       "        <div style=\"width: 24px; height: 24px; background-color: #FFF7E5; border: 3px solid #FF6132; border-radius: 5px; position: absolute;\"> </div>\n",
       "        <div style=\"margin-left: 48px;\">\n",
       "            <h3 style=\"margin-bottom: 0px;\">Scheduler</h3>\n",
       "            <p style=\"color: #9D9D9D; margin-bottom: 0px;\">Scheduler-c0e2ff60-efb1-464b-b1b6-9769944b9270</p>\n",
       "            <table style=\"width: 100%; text-align: left;\">\n",
       "                <tr>\n",
       "                    <td style=\"text-align: left;\">\n",
       "                        <strong>Comm:</strong> tcp://10.0.128.136:36165\n",
       "                    </td>\n",
       "                    <td style=\"text-align: left;\">\n",
       "                        <strong>Workers:</strong> 0\n",
       "                    </td>\n",
       "                </tr>\n",
       "                <tr>\n",
       "                    <td style=\"text-align: left;\">\n",
       "                        <strong>Dashboard:</strong> <a href=\"/proxy/8787/status\" target=\"_blank\">/proxy/8787/status</a>\n",
       "                    </td>\n",
       "                    <td style=\"text-align: left;\">\n",
       "                        <strong>Total threads:</strong> 0\n",
       "                    </td>\n",
       "                </tr>\n",
       "                <tr>\n",
       "                    <td style=\"text-align: left;\">\n",
       "                        <strong>Started:</strong> Just now\n",
       "                    </td>\n",
       "                    <td style=\"text-align: left;\">\n",
       "                        <strong>Total memory:</strong> 0 B\n",
       "                    </td>\n",
       "                </tr>\n",
       "            </table>\n",
       "        </div>\n",
       "    </div>\n",
       "\n",
       "    <details style=\"margin-left: 48px;\">\n",
       "        <summary style=\"margin-bottom: 20px;\">\n",
       "            <h3 style=\"display: inline;\">Workers</h3>\n",
       "        </summary>\n",
       "\n",
       "        \n",
       "\n",
       "    </details>\n",
       "</div>\n",
       "\n",
       "        </details>\n",
       "    </div>\n",
       "</div>\n",
       "            </details>\n",
       "        \n",
       "\n",
       "    </div>\n",
       "</div>"
      ],
      "text/plain": [
       "<Client: 'tcp://10.0.128.136:36165' processes=0 threads=0, memory=0 B>"
      ]
     },
     "execution_count": 5,
     "metadata": {},
     "output_type": "execute_result"
    }
   ],
   "source": [
    "client"
   ]
  },
  {
   "cell_type": "markdown",
   "id": "5fd5cbaf-9ba6-4376-9490-d5cbc95a14d9",
   "metadata": {},
   "source": [
    "# choose to preserve attributes"
   ]
  },
  {
   "cell_type": "code",
   "execution_count": 6,
   "id": "a8bf8f04-2113-4861-82c6-bee0820430ec",
   "metadata": {},
   "outputs": [
    {
     "data": {
      "text/plain": [
       "<xarray.core.options.set_options at 0x7f7df3e2faf0>"
      ]
     },
     "execution_count": 6,
     "metadata": {},
     "output_type": "execute_result"
    }
   ],
   "source": [
    "xr.set_options(keep_attrs=True)"
   ]
  },
  {
   "cell_type": "code",
   "execution_count": 30,
   "id": "81386870-6ed6-4016-ae03-7c0b071b9f9e",
   "metadata": {},
   "outputs": [],
   "source": [
    "path_in = '/g/data/xv83/dcfp/CAFE-f6/c5-d60-pX-f6-20151101/'\n",
    "path_out = '/g/data/xv83/users/tm4888/data/CAFE/hindcast_f6/'"
   ]
  },
  {
   "cell_type": "markdown",
   "id": "a7719f25-acb9-4a48-abd0-7a8ce8d8af02",
   "metadata": {},
   "source": [
    "# load CAFEf6 Tgrid and Ugrid zarr collections"
   ]
  },
  {
   "cell_type": "code",
   "execution_count": 8,
   "id": "82fe18a7-3193-42e1-b8d7-01777f0f487e",
   "metadata": {},
   "outputs": [],
   "source": [
    "ds_CAFEf6_Tgrid = xr.open_zarr(path_out + 'CAFEf6_Tgrid_reduced_ocean_month.zarr',consolidated=True)\n",
    "ds_CAFEf6_Ugrid = xr.open_zarr(path_out + 'CAFEf6_Ugrid_reduced_ocean_month.zarr',consolidated=True)"
   ]
  },
  {
   "cell_type": "markdown",
   "id": "4ab21202-d538-459b-82b8-4f5d5852fdd1",
   "metadata": {},
   "source": [
    "# load CAFE grid info // use `layer_depth_t` for depth weights"
   ]
  },
  {
   "cell_type": "code",
   "execution_count": 9,
   "id": "4ea99628-b2a7-4464-8c09-0135fa5570e0",
   "metadata": {
    "tags": []
   },
   "outputs": [],
   "source": [
    "grid_spec = xr.open_dataset('/g/data/xv83/users/tm4888/data/CAFE/grid_spec.auscom.20110118.nc')\n",
    "CAFE_ocean_grid_info = xr.open_zarr('/g/data/xv83/users/tm4888/data/CAFE/CAFE60_ocean_grid_info.zarr',consolidated=True)\n",
    "depth_weights = CAFE_ocean_grid_info.layer_depth_t"
   ]
  },
  {
   "cell_type": "code",
   "execution_count": 10,
   "id": "2bb0c77d-0aca-4c8f-8ca0-d0881de478d7",
   "metadata": {},
   "outputs": [],
   "source": [
    "#T-grid\n",
    "volume_weights_t = CAFE_ocean_grid_info.volume_t.chunk({'st_ocean': 50,'yt_ocean' : 300, 'xt_ocean' : 360})\n",
    "area_weights_t = CAFE_ocean_grid_info.area_t\n",
    "volume_dim_t={'st_ocean','yt_ocean','xt_ocean'}\n",
    "area_dim_t={'yt_ocean','xt_ocean'}\n",
    "#U-grid\n",
    "volume_weights_u = CAFE_ocean_grid_info.volume_u.chunk({'st_ocean': 50,'yu_ocean' : 300, 'xu_ocean' : 360})\n",
    "area_weights_u = CAFE_ocean_grid_info.area_u\n",
    "volume_dim_u={'st_ocean','yu_ocean','xu_ocean'}\n",
    "area_dim_u={'yu_ocean','xu_ocean'}\n",
    "\n",
    "#calc some grid metric missing\n",
    "dxt = grid_spec.ds_01_11_T + grid_spec.ds_11_21_T\n",
    "dyt = grid_spec.ds_10_11_T + grid_spec.ds_11_12_T\n",
    "dxu = grid_spec.ds_00_10_T + grid_spec.ds_10_20_T\n",
    "dyu = grid_spec.ds_00_01_T + grid_spec.ds_01_02_T"
   ]
  },
  {
   "cell_type": "markdown",
   "id": "5b6d5c78-9564-42f4-9013-7860a966cfd7",
   "metadata": {},
   "source": [
    "# slice out the simple 2D variables"
   ]
  },
  {
   "cell_type": "code",
   "execution_count": 11,
   "id": "29b77659-4ad7-4d9e-9005-4b1aaf8953ff",
   "metadata": {},
   "outputs": [],
   "source": [
    "#T-grid\n",
    "sst = ds_CAFEf6_Tgrid.sst\n",
    "temp50 = ds_CAFEf6_Tgrid.temp.sel(st_ocean=50,method='nearest').rename('temp50')\n",
    "temp100 = ds_CAFEf6_Tgrid.temp.sel(st_ocean=100,method='nearest').rename('temp100')\n",
    "temp200 = ds_CAFEf6_Tgrid.temp.sel(st_ocean=200,method='nearest').rename('temp200')\n",
    "temp500 = ds_CAFEf6_Tgrid.temp.sel(st_ocean=500,method='nearest').rename('temp500')\n",
    "sss = ds_CAFEf6_Tgrid.salt.isel(st_ocean=0).rename('sss')"
   ]
  },
  {
   "cell_type": "code",
   "execution_count": 12,
   "id": "5c46968b-8288-4ea4-a431-72ff13d962c1",
   "metadata": {},
   "outputs": [],
   "source": [
    "#U-grid\n",
    "u100 = ds_CAFEf6_Ugrid.u.sel(st_ocean=100,method='nearest').rename('u100')\n",
    "v100 = ds_CAFEf6_Ugrid.v.sel(st_ocean=100,method='nearest').rename('v100')"
   ]
  },
  {
   "cell_type": "markdown",
   "id": "83829448-9ac3-48d2-aaea-24f1680bbbbc",
   "metadata": {},
   "source": [
    "# Calculate all the extra quantaties from 3D T & U grid data // \n",
    "### D20, MLD, OHC, EKE, U/V100_300"
   ]
  },
  {
   "cell_type": "markdown",
   "id": "6121038b-85ac-413f-8bf5-8f2ef9179ec1",
   "metadata": {},
   "source": [
    "#### functions"
   ]
  },
  {
   "cell_type": "code",
   "execution_count": 13,
   "id": "9d1ba360-ed26-4af5-9334-9ee1590970c3",
   "metadata": {},
   "outputs": [],
   "source": [
    "def calc_EKE(u, v, time_name = 'time'):\n",
    "    '''\n",
    "    Author1 = {\"name\": \"Thomas Moore\", \"affiliation\": \"CSIRO\", \"email\": \"thomas.moore@csiro.au\", \"orcid\": \"0000-0003-3930-1946\"}\n",
    "    u,v are x and y currents as an xarray data array\n",
    "    '''\n",
    "    u_mean = u.mean(time_name)\n",
    "    v_mean = v.mean(time_name)\n",
    "    MKE = 0.5*(u_mean**2 + v_mean**2).rename('MKE') # currents\n",
    "    EKE = ( 0.5 * ((u-u_mean)**2 + (v-v_mean)**2) ).rename('EKE') # eddies\n",
    "    return EKE, MKE"
   ]
  },
  {
   "cell_type": "code",
   "execution_count": 14,
   "id": "41e708f3-d0ad-4db5-b4bc-01331df1981c",
   "metadata": {},
   "outputs": [],
   "source": [
    "def weighted_ocean_mean(ds,weights=None,dim=None,sel_dict=None):\n",
    "    \"\"\"\n",
    "    weighted_ocean_mean\n",
    "    Returns: ds_weighted\n",
    "    Defaults: no spatial and time selection, no weights, no selected dims\n",
    "    Author: Thomas Moore (based on Dougie Squire code)\n",
    "    Date created: 11/02/2020\n",
    "\n",
    "    Assumptions:\n",
    "    Dataset or Dataarray = ds\n",
    "    Use:\n",
    "    Limitations:\n",
    "    \"\"\"\n",
    "\n",
    "    if weights is None:\n",
    "        return ds.sel(sel_dict).mean(dim)\n",
    "    else:\n",
    "        #weights = (0 * da + 1) * weights\n",
    "        #return (da * weights).sum(dim) / weights.sum(dim)\n",
    "        return (ds.sel(sel_dict) * weights).sum(dim,skipna=True) / weights.where(ds.sel(sel_dict).notnull()).sum(dim,skipna=True)"
   ]
  },
  {
   "cell_type": "markdown",
   "id": "4f9b9be0-1904-4a92-89fc-7618a08a61d8",
   "metadata": {},
   "source": [
    "### U-grid depth weighted means"
   ]
  },
  {
   "cell_type": "code",
   "execution_count": 15,
   "id": "ba91825f-a397-4b0d-b2ea-bec926b30d10",
   "metadata": {},
   "outputs": [],
   "source": [
    "u100_300 = helper.weighted_ocean_mean(ds_CAFEf6_Ugrid.u,weights=depth_weights,dim='st_ocean',sel_dict={'st_ocean':slice(100,300)})\n",
    "v100_300 = helper.weighted_ocean_mean(ds_CAFEf6_Ugrid.v,weights=depth_weights,dim='st_ocean',sel_dict={'st_ocean':slice(100,300)})"
   ]
  },
  {
   "cell_type": "code",
   "execution_count": 16,
   "id": "21566e41-cc95-4bb6-9e76-e3cc3d24c2e3",
   "metadata": {},
   "outputs": [],
   "source": [
    "u100_300 = u100_300.rename('u100_300')\n",
    "v100_300 = v100_300.rename('v100_300')"
   ]
  },
  {
   "cell_type": "code",
   "execution_count": 17,
   "id": "238c1fde-abd1-4307-b121-4f3de70429bd",
   "metadata": {},
   "outputs": [],
   "source": [
    "u100_300.attrs['long_name'] = 'mean U current 100-300m '\n",
    "u100_300.attrs['units'] = 'm/s'\n",
    "timestamp = datetime.today().strftime('%Y-%m-%d')\n",
    "u100_300.attrs['History'] = 'Created by Thomas Moore on ' + timestamp + ' using a \"depth weighted mean\" approach'"
   ]
  },
  {
   "cell_type": "code",
   "execution_count": 18,
   "id": "e10663db-6ee8-4525-ac92-ee51cc7822f7",
   "metadata": {},
   "outputs": [],
   "source": [
    "v100_300.attrs['long_name'] = 'mean V current 100-300m '\n",
    "v100_300.attrs['units'] = 'm/s'\n",
    "timestamp = datetime.today().strftime('%Y-%m-%d')\n",
    "v100_300.attrs['History'] = 'Created by Thomas Moore on ' + timestamp + ' using a \"depth weighted mean\" approach'"
   ]
  },
  {
   "cell_type": "markdown",
   "id": "e4cd6262-eb4d-4a20-9bfc-f72a3f02f38f",
   "metadata": {},
   "source": [
    "### EKE300 & 2000"
   ]
  },
  {
   "cell_type": "code",
   "execution_count": 19,
   "id": "d2ceb944-85a9-46eb-8e99-7fe72d7ebf0e",
   "metadata": {},
   "outputs": [
    {
     "name": "stdout",
     "output_type": "stream",
     "text": [
      "CPU times: user 41.4 ms, sys: 4.54 ms, total: 45.9 ms\n",
      "Wall time: 43.3 ms\n"
     ]
    }
   ],
   "source": [
    "%%time\n",
    "[EKE, MKE] = calc_EKE(ds_CAFEf6_Ugrid.u, ds_CAFEf6_Ugrid.v, time_name='time')"
   ]
  },
  {
   "cell_type": "code",
   "execution_count": 20,
   "id": "570560bc-99a1-4e0f-b1ff-9a049f5ca7c6",
   "metadata": {},
   "outputs": [],
   "source": [
    "eke300 = (EKE * depth_weights).sel(st_ocean=slice(0,300)).sum('st_ocean',skipna=True)\n",
    "eke300 = eke300.where(eke300 != 0)"
   ]
  },
  {
   "cell_type": "code",
   "execution_count": 21,
   "id": "f3bc6b78-51ad-466f-9a7d-6a32ab7449d7",
   "metadata": {},
   "outputs": [],
   "source": [
    "eke2000 = (EKE * depth_weights).sel(st_ocean=slice(0,2000)).sum('st_ocean',skipna=True)\n",
    "eke2000 = eke2000.where(eke2000 != 0)"
   ]
  },
  {
   "cell_type": "code",
   "execution_count": 22,
   "id": "00d6c1aa-40ca-446b-abcc-6f04f1546cbf",
   "metadata": {},
   "outputs": [],
   "source": [
    "eke300 = eke300.rename('eke300')\n",
    "eke2000 = eke2000.rename('eke2000')"
   ]
  },
  {
   "cell_type": "code",
   "execution_count": 23,
   "id": "53212ff0-5be7-4a3d-93b0-f26b5e55f8d1",
   "metadata": {},
   "outputs": [],
   "source": [
    "eke300.attrs['long_name'] = 'EKE intgral 0-300m '\n",
    "eke300.attrs['units'] = 'm^2 / s^2'\n",
    "timestamp = datetime.today().strftime('%Y-%m-%d')\n",
    "eke300.attrs['History'] = 'Created by Thomas Moore on ' + timestamp + ' using a \"weighted depth sum\" approach'"
   ]
  },
  {
   "cell_type": "code",
   "execution_count": 24,
   "id": "cb413ca3-ad03-4183-bd7f-cfa1710c4721",
   "metadata": {},
   "outputs": [],
   "source": [
    "eke2000.attrs['long_name'] = 'EKE intgral 0-2000m '\n",
    "eke2000.attrs['units'] = 'm^2 / s^2'\n",
    "timestamp = datetime.today().strftime('%Y-%m-%d')\n",
    "eke2000.attrs['History'] = 'Created by Thomas Moore on ' + timestamp + ' using a \"weighted depth sum\" approach'"
   ]
  },
  {
   "cell_type": "markdown",
   "id": "560cdd62-7d72-4390-ac70-1c13b0c9b70f",
   "metadata": {},
   "source": [
    "# D20"
   ]
  },
  {
   "cell_type": "code",
   "execution_count": 25,
   "id": "051ba07e-7492-43d7-b16f-f496e0bea84f",
   "metadata": {},
   "outputs": [],
   "source": [
    "def isosurface(da, coord, target, interp_flag = False):\n",
    "    \"\"\"\n",
    "        Returns the values of a coordinate in the input array where the input array values equals \\\n",
    "                a prescribed target. E.g. returns the depth of the 20 degC isotherm. Returns nans for all \\\n",
    "                points in input array where isosurface is not defined. If \n",
    "        \n",
    "        | Author: Thomas Moore and Dougie Squire\n",
    "        | Date: 02/10/2018\n",
    "        \n",
    "        Parameters\n",
    "        ----------\n",
    "        da : xarray DataArray\n",
    "            Array of values to be isosurfaced\n",
    "        coord : str\n",
    "            Name of coordinate to contruct isosurface about\n",
    "        target : value\n",
    "            Isosurface value\n",
    "            \n",
    "        Returns\n",
    "        -------\n",
    "        isosurface : xarray DataArray\n",
    "            Values of coord where da is closest to target. If multiple occurences of target occur \\\n",
    "                    along coord, only the maximum value of coord is returned\n",
    "            \n",
    "        Examples\n",
    "        --------\n",
    "        >>> A = xr.DataArray(np.random.normal(size=(5,5)), \n",
    "        ...                  coords=[('x', np.arange(5)), ('y', np.arange(5))])\n",
    "        >>> isosurface(A, coord='x', target=0)\n",
    "        >>> doppyo.utils.isosurface(A, coord='x', target=0)\n",
    "        <xarray.DataArray 'isosurface' (y: 5)>\n",
    "        array([ 4.,  1., nan,  3.,  4.])\n",
    "        Coordinates:\n",
    "          * y        (y) int64 0 1 2 3 4\n",
    "  \n",
    "        Notes\n",
    "        -----------\n",
    "        If multiple occurences of target occur along coord, only the maximum value of coord is\\\n",
    "                returned\n",
    "        \n",
    "        To do\n",
    "        \n",
    "        - The current version includes no interpolation between grid spacing. This should be added as \\\n",
    "                an option in the future\n",
    "    \"\"\"\n",
    "    \n",
    "    # Find isosurface -----\n",
    "    if interp_flag == False:\n",
    "        mask = da > target\n",
    "        da_mask = mask * da[coord]\n",
    "        isosurface = da_mask.max(coord)\n",
    "        \n",
    "\n",
    "    return isosurface.where(da.max(dim=coord) > target).rename('isosurface')\n",
    "\n",
    "def isotherm_depth(temp, target_temp=20, depth_name=None):\n",
    "    \"\"\" \n",
    "        Returns the depth of an isotherm given a target temperature. If no temperatures in the column\n",
    "        exceed the target temperature, a nan is returned at that point\n",
    "        \n",
    "        | Author: Thomas Moore\n",
    "        | Date: 02/10/2018\n",
    "        \n",
    "        Parameters\n",
    "        ----------\n",
    "        temp : xarray DataArray\n",
    "            Array containing values of temperature with at least a depth dimension\n",
    "        target_temp : value, optional\n",
    "            Value of temperature used to compute isotherm depth. Default value is 20 degC\n",
    "        depth_name : str, optional\n",
    "            Name of depth coordinate. If None, doppyo will attempt to determine depth_name \\\n",
    "                    automatically\n",
    "            \n",
    "        Returns\n",
    "        -------\n",
    "        isotherm_depth : xarray DataArray\n",
    "            Array containing the depth of the requested isotherm\n",
    "        Examples\n",
    "        --------\n",
    "        >>> temp = xr.DataArray(20 + np.random.normal(scale=5, size=(4,4,10)), \n",
    "        ...                     coords=[('lat', np.arange(-90,90,45)), ('lon', np.arange(0,360,90)), \n",
    "        ...                             ('depth', np.arange(2000,0,-200))])\n",
    "        >>> doppyo.diagnostic.isotherm_depth(temp)\n",
    "        <xarray.DataArray 'isosurface' (lat: 4, lon: 4)>\n",
    "        array([[ 400., 1600., 2000.,  800.],\n",
    "               [1800., 2000., 1800., 2000.],\n",
    "               [2000., 2000., 2000., 1600.],\n",
    "               [1400., 2000., 2000., 2000.]])\n",
    "        Coordinates:\n",
    "          * lat      (lat) int64 -90 -45 0 45\n",
    "          * lon      (lon) int64 0 90 180 270\n",
    "        \n",
    "        Notes\n",
    "        -----------\n",
    "        | All input array coordinates must follow standard naming (see ``doppyo.utils.get_lat_name()``, \\\n",
    "                ``doppyo.utils.get_lon_name()``, etc)\n",
    "        | If multiple occurences of target occur along the depth coordinate, only the maximum value of \\\n",
    "                coord is returned\n",
    "        | The current version includes no interpolation between grid spacing. This should be added as \\\n",
    "                an option in the future\n",
    "    \"\"\"\n",
    "\n",
    "    if depth_name is None:\n",
    "        depth_name = helper.get_depth_name(temp)\n",
    "\n",
    "    return isosurface(temp, coord=depth_name, target=target_temp).rename('isotherm_depth')"
   ]
  },
  {
   "cell_type": "code",
   "execution_count": 26,
   "id": "a9d556fc-0d7c-4d09-8d78-cbbc1804f679",
   "metadata": {},
   "outputs": [],
   "source": [
    "D20 = isotherm_depth(ds_CAFEf6_Tgrid.temp).rename('D20')"
   ]
  },
  {
   "cell_type": "code",
   "execution_count": 27,
   "id": "db3d6318-7010-4226-abd5-8d39a2463948",
   "metadata": {},
   "outputs": [],
   "source": [
    "D20.attrs['long_name'] = 'depth of the 20degree isotherm'\n",
    "D20.attrs['units'] = 'm'\n",
    "timestamp = datetime.today().strftime('%Y-%m-%d')\n",
    "D20.attrs['History'] = 'Created by Thomas Moore on ' + timestamp + ' using a \"where max\" approach'"
   ]
  },
  {
   "cell_type": "markdown",
   "id": "c933262c-1e1a-47e1-8b2e-829224b90cda",
   "metadata": {},
   "source": [
    "# OHC200 & 300"
   ]
  },
  {
   "cell_type": "markdown",
   "id": "9024891a-b475-4df4-9d1e-412732447ae8",
   "metadata": {
    "Collapsed": "false"
   },
   "source": [
    "### OHC calculation - $per\\hspace{5mm}Taley\\hspace{1mm}(2018)$"
   ]
  },
  {
   "cell_type": "markdown",
   "id": "44a550ea-b112-4015-ac71-71ffcd73e659",
   "metadata": {
    "Collapsed": "false"
   },
   "source": [
    "#### $OHC = \\rho * c_p \\int\\limits_{h_{1}}^{h_{2}}T(z)dz $\n",
    "#### The density of seawater can be approximated as 1025 $kg/m^3$ and the specific heat can be approximated as 3850 $J/(kg C)$\n",
    "#### The above simplifies $\\rho$ and $c_p$ as being constant with depth\n",
    "#### For CAFEf6 we have and are using $potential\\,temperature$ \n",
    "#### Units should end up being $J/m^2$"
   ]
  },
  {
   "cell_type": "code",
   "execution_count": 28,
   "id": "66ec142f-a725-45e3-9dfd-bf5d789aa879",
   "metadata": {},
   "outputs": [],
   "source": [
    "def get_OHC_viaWeightedSum(temp_da, h, depth_dim_name = 'st_ocean'):\n",
    "    #define \"constants\" - note this calculation simplifies ρ and cp as constant with depth \n",
    "    ρ =  1025.0\n",
    "    cp = 3850.0\n",
    "    OHC = (temp_da * depth_weights).sel({depth_dim_name:slice(0,h)}).sum(depth_dim_name,skipna=True)*ρ*cp\n",
    "    OHC = OHC.where(OHC != 0)\n",
    "    OHC = OHC.rename('hc' + str(h))\n",
    "    OHC.attrs['long_name'] = 'ocean heat content'\n",
    "    OHC.attrs['units'] = 'J per square metre'\n",
    "    timestamp = datetime.today().strftime('%Y-%m-%d')\n",
    "    OHC.attrs['History'] = 'Created by Thomas Moore on ' + timestamp + ' using a depth weighted sum approach and temperature in degC'\n",
    "    return OHC"
   ]
  },
  {
   "cell_type": "code",
   "execution_count": 29,
   "id": "e5c6ccdf-2bdf-4555-afeb-afd5e70e203e",
   "metadata": {},
   "outputs": [],
   "source": [
    "hc200 = get_OHC_viaWeightedSum(ds_CAFEf6_Tgrid.temp, 200)\n",
    "hc300 = get_OHC_viaWeightedSum(ds_CAFEf6_Tgrid.temp, 300)"
   ]
  },
  {
   "cell_type": "markdown",
   "id": "2a9ad23d-f3f2-4a69-a907-73a053305324",
   "metadata": {},
   "source": [
    "# MLD"
   ]
  },
  {
   "cell_type": "markdown",
   "id": "b0641df6-5607-4ad3-8600-23146fa065fa",
   "metadata": {},
   "source": [
    "### using daily CAFEf6 data"
   ]
  },
  {
   "cell_type": "code",
   "execution_count": 31,
   "id": "d9fb709a-d728-4220-9d09-5f29f2f488f5",
   "metadata": {},
   "outputs": [],
   "source": [
    "ds_daily = xr.open_zarr(path_in+'ocean_daily.zarr.zip',consolidated=True)"
   ]
  },
  {
   "cell_type": "code",
   "execution_count": 32,
   "id": "9fbce282-f2c2-4d02-bd60-2c3eaf063943",
   "metadata": {},
   "outputs": [],
   "source": [
    "mld = ds_daily.mld.mean('ensemble')\n",
    "mld = mld.resample(time='1M').mean()"
   ]
  },
  {
   "cell_type": "markdown",
   "id": "79a54ffc-b6ce-4ecb-a47a-ede779b355d3",
   "metadata": {},
   "source": [
    "### crop time"
   ]
  },
  {
   "cell_type": "code",
   "execution_count": 33,
   "id": "e74f5a0a-2352-4478-bf01-42e0e7330823",
   "metadata": {},
   "outputs": [],
   "source": [
    "mld = mld.isel(time=slice(0,37))"
   ]
  },
  {
   "cell_type": "code",
   "execution_count": 34,
   "id": "e725684d-6b93-4565-95f5-2ad16082a5b5",
   "metadata": {},
   "outputs": [],
   "source": [
    "#brute force matching of time\n",
    "mld['time']=ds_CAFEf6_Tgrid['time']"
   ]
  },
  {
   "cell_type": "markdown",
   "id": "2eb52a07-e52a-44b8-b47f-ec30aeb472ec",
   "metadata": {},
   "source": [
    "#### Attributes"
   ]
  },
  {
   "cell_type": "code",
   "execution_count": 35,
   "id": "281c4f39-e38b-4d68-94ba-4ce790eed2dc",
   "metadata": {},
   "outputs": [],
   "source": [
    "timestamp = datetime.today().strftime('%Y-%m-%d')\n",
    "mld.attrs['History'] = 'Created by Thomas Moore on ' + timestamp + ' using a resampled daily CAFEf6 data'"
   ]
  },
  {
   "cell_type": "markdown",
   "id": "d13ebca2-3a18-4b1d-b783-550e9e4501ff",
   "metadata": {},
   "source": [
    "# merge into 2D Tgrid and Ugrid files"
   ]
  },
  {
   "cell_type": "code",
   "execution_count": 41,
   "id": "45e76585-18b7-4b3b-8593-dd08671b1e90",
   "metadata": {},
   "outputs": [],
   "source": [
    "ds_CAFEf6_Tgrid2D = xr.merge([sst,sss,temp50,temp100,temp200,temp500,D20,mld,hc200,hc300],compat='override').drop('st_ocean')"
   ]
  },
  {
   "cell_type": "code",
   "execution_count": 42,
   "id": "58b396e0-6eaa-4d8b-b683-489d03d636c6",
   "metadata": {},
   "outputs": [],
   "source": [
    "ds_CAFEf6_Ugrid2D = xr.merge([u100,v100,u100_300,v100_300,eke300,eke2000],compat='override').drop('st_ocean')"
   ]
  },
  {
   "cell_type": "markdown",
   "id": "3eb082f7-ab9d-4fd1-b917-1c52af7c0f2b",
   "metadata": {},
   "source": [
    "# write out to zarr"
   ]
  },
  {
   "cell_type": "code",
   "execution_count": 43,
   "id": "94e307d6-116d-477d-8692-82836c19893f",
   "metadata": {},
   "outputs": [
    {
     "data": {
      "text/plain": [
       "0.209094464"
      ]
     },
     "execution_count": 43,
     "metadata": {},
     "output_type": "execute_result"
    }
   ],
   "source": [
    "ds_CAFEf6_Tgrid2D.nbytes/1e9"
   ]
  },
  {
   "cell_type": "code",
   "execution_count": 44,
   "id": "0a1de928-db00-4a42-8d07-ee34807c7aab",
   "metadata": {},
   "outputs": [
    {
     "data": {
      "text/plain": [
       "0.161142464"
      ]
     },
     "execution_count": 44,
     "metadata": {},
     "output_type": "execute_result"
    }
   ],
   "source": [
    "ds_CAFEf6_Ugrid2D.nbytes/1e9"
   ]
  },
  {
   "cell_type": "code",
   "execution_count": 45,
   "id": "e49fb160-fc59-400e-9690-86036b528bfe",
   "metadata": {},
   "outputs": [
    {
     "name": "stdout",
     "output_type": "stream",
     "text": [
      "CPU times: user 12.8 s, sys: 1.73 s, total: 14.5 s\n",
      "Wall time: 2min 22s\n"
     ]
    },
    {
     "data": {
      "text/plain": [
       "<xarray.backends.zarr.ZarrStore at 0x7f7df1b2a120>"
      ]
     },
     "execution_count": 45,
     "metadata": {},
     "output_type": "execute_result"
    }
   ],
   "source": [
    "%%time\n",
    "ds_CAFEf6_Tgrid2D.to_zarr(path_out+'CAFEf6_Tgrid_2D.zarr',consolidated=True)"
   ]
  },
  {
   "cell_type": "code",
   "execution_count": 46,
   "id": "c976a6ca-0f53-4731-a915-d0f2a4312319",
   "metadata": {},
   "outputs": [
    {
     "name": "stdout",
     "output_type": "stream",
     "text": [
      "CPU times: user 1.59 s, sys: 167 ms, total: 1.76 s\n",
      "Wall time: 4.02 s\n"
     ]
    },
    {
     "data": {
      "text/plain": [
       "<xarray.backends.zarr.ZarrStore at 0x7f7df1017b30>"
      ]
     },
     "execution_count": 46,
     "metadata": {},
     "output_type": "execute_result"
    }
   ],
   "source": [
    "%%time\n",
    "ds_CAFEf6_Ugrid2D.to_zarr(path_out+'CAFEf6_Ugrid_2D.zarr',consolidated=True)"
   ]
  },
  {
   "cell_type": "markdown",
   "id": "2ade2b10",
   "metadata": {},
   "source": [
    "# $ The\\ End$"
   ]
  },
  {
   "cell_type": "markdown",
   "id": "9bc46bde",
   "metadata": {},
   "source": [
    "# Break glass in case of emergency\n",
    "# $\\Downarrow$"
   ]
  },
  {
   "cell_type": "code",
   "execution_count": null,
   "id": "56944df5",
   "metadata": {},
   "outputs": [],
   "source": [
    "client.restart()"
   ]
  },
  {
   "cell_type": "code",
   "execution_count": 47,
   "id": "a452cf37",
   "metadata": {},
   "outputs": [],
   "source": [
    "client.shutdown()"
   ]
  },
  {
   "cell_type": "code",
   "execution_count": null,
   "id": "4464c198",
   "metadata": {},
   "outputs": [],
   "source": [
    "client.restart()"
   ]
  }
 ],
 "metadata": {
  "kernelspec": {
   "display_name": "Python 3",
   "language": "python",
   "name": "python3"
  },
  "language_info": {
   "codemirror_mode": {
    "name": "ipython",
    "version": 3
   },
   "file_extension": ".py",
   "mimetype": "text/x-python",
   "name": "python",
   "nbconvert_exporter": "python",
   "pygments_lexer": "ipython3",
   "version": "3.9.4"
  }
 },
 "nbformat": 4,
 "nbformat_minor": 5
}
